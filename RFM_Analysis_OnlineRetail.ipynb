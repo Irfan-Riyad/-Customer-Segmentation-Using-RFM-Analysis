{
 "cells": [
  {
   "cell_type": "markdown",
   "id": "23347d6e",
   "metadata": {},
   "source": [
    "# RFM Analysis on Online Retail (UCI)\n",
    "This notebook loads the **OnlineRetail.csv** file, cleans it, computes **Recency, Frequency, Monetary (RFM)** metrics, scores customers, creates simple customer segments, and visualizes the results."
   ]
  },
  {
   "cell_type": "code",
   "execution_count": null,
   "id": "513e95fc",
   "metadata": {},
   "outputs": [],
   "source": [
    "# Step 0: Setup\n",
    "import pandas as pd\n",
    "import numpy as np\n",
    "import matplotlib.pyplot as plt\n",
    "\n",
    "# Display options\n",
    "pd.set_option('display.max_columns', None)\n",
    "pd.set_option('display.width', 120)\n",
    "\n",
    "# Load dataset (already uploaded to this environment)\n",
    "path = '/mnt/data/OnlineRetail.csv'\n",
    "df = pd.read_csv(path, encoding='ISO-8859-1')\n",
    "\n",
    "print('Rows:', len(df))\n",
    "df.head()"
   ]
  },
  {
   "cell_type": "code",
   "execution_count": null,
   "id": "5178d2eb",
   "metadata": {},
   "outputs": [],
   "source": [
    "# Step 1: Data Cleaning\n",
    "# 1) Remove rows with missing CustomerID\n",
    "# 2) Remove cancelled invoices (InvoiceNo that start with 'C')\n",
    "# 3) Convert InvoiceDate to datetime\n",
    "# 4) Create TotalPrice = Quantity * UnitPrice\n",
    "\n",
    "df_clean = df.dropna(subset=['CustomerID']).copy()\n",
    "df_clean = df_clean[~df_clean['InvoiceNo'].astype(str).str.startswith('C')].copy()\n",
    "df_clean['InvoiceDate'] = pd.to_datetime(df_clean['InvoiceDate'])\n",
    "df_clean['TotalPrice'] = df_clean['Quantity'] * df_clean['UnitPrice']\n",
    "\n",
    "df_clean.head()"
   ]
  },
  {
   "cell_type": "code",
   "execution_count": null,
   "id": "e3413d1f",
   "metadata": {},
   "outputs": [],
   "source": [
    "# Step 2: Calculate R, F, M\n",
    "latest_date = df_clean['InvoiceDate'].max() + pd.Timedelta(days=1)\n",
    "\n",
    "rfm = (df_clean\n",
    "       .groupby('CustomerID')\n",
    "       .agg(Recency=('InvoiceDate', lambda x: (latest_date - x.max()).days),\n",
    "            Frequency=('InvoiceNo', 'nunique'),\n",
    "            Monetary=('TotalPrice', 'sum'))\n",
    "       .reset_index())\n",
    "\n",
    "rfm.head()"
   ]
  },
  {
   "cell_type": "code",
   "execution_count": null,
   "id": "2ae0a59d",
   "metadata": {},
   "outputs": [],
   "source": [
    "# Step 3: RFM Scoring (1-4)\n",
    "# Use rank-based quantiles to avoid qcut bin-edge duplication on low-cardinality data\n",
    "\n",
    "# For Recency: lower is better -> R score 4 (best) to 1 (worst)\n",
    "rfm['R_Score'] = pd.qcut(rfm['Recency'].rank(method='first'), 4, labels=[4, 3, 2, 1]).astype(int)\n",
    "\n",
    "# For Frequency & Monetary: higher is better -> score 1 (worst) to 4 (best)\n",
    "rfm['F_Score'] = pd.qcut(rfm['Frequency'].rank(method='first'), 4, labels=[1, 2, 3, 4]).astype(int)\n",
    "rfm['M_Score'] = pd.qcut(rfm['Monetary'].rank(method='first'), 4, labels=[1, 2, 3, 4]).astype(int)\n",
    "\n",
    "rfm['RFM_Segment'] = (rfm['R_Score'].astype(str) + rfm['F_Score'].astype(str) + rfm['M_Score'].astype(str))\n",
    "rfm['RFM_Score'] = rfm[['R_Score','F_Score','M_Score']].sum(axis=1)\n",
    "\n",
    "rfm[['CustomerID','Recency','Frequency','Monetary','R_Score','F_Score','M_Score','RFM_Segment','RFM_Score']].head()"
   ]
  },
  {
   "cell_type": "code",
   "execution_count": null,
   "id": "0ca2740e",
   "metadata": {},
   "outputs": [],
   "source": [
    "# Step 4: Simple Customer Segments (you can tune thresholds)\n",
    "def segment_row(row):\n",
    "    if row['RFM_Score'] >= 9:\n",
    "        return 'Best Customers'\n",
    "    elif row['RFM_Score'] >= 8:\n",
    "        return 'Loyal Customers'\n",
    "    elif row['RFM_Score'] >= 6:\n",
    "        return 'Potential Loyalists'\n",
    "    elif row['RFM_Score'] >= 5:\n",
    "        return 'At Risk'\n",
    "    else:\n",
    "        return 'Hibernating'\n",
    "\n",
    "rfm['Segment'] = rfm.apply(segment_row, axis=1)\n",
    "\n",
    "# Segment counts\n",
    "seg_counts = rfm['Segment'].value_counts().rename_axis('Segment').reset_index(name='Count')\n",
    "seg_counts"
   ]
  },
  {
   "cell_type": "code",
   "execution_count": null,
   "id": "5598b6e0",
   "metadata": {},
   "outputs": [],
   "source": [
    "# Step 5: Visualization - Segment Distribution (matplotlib only)\n",
    "plt.figure(figsize=(10,6))\n",
    "order = seg_counts.sort_values('Count', ascending=False)\n",
    "plt.bar(order['Segment'], order['Count'])\n",
    "plt.title('Customer Segments Distribution')\n",
    "plt.xlabel('Segment')\n",
    "plt.ylabel('Customers')\n",
    "plt.xticks(rotation=30, ha='right')\n",
    "plt.tight_layout()\n",
    "plt.show()"
   ]
  },
  {
   "cell_type": "code",
   "execution_count": null,
   "id": "187ebf5d",
   "metadata": {},
   "outputs": [],
   "source": [
    "# Step 6 (Bonus): Heatmap of mean R, F, M by Segment (matplotlib)\n",
    "stats = (rfm.groupby('Segment')[['Recency','Frequency','Monetary']]\n",
    "         .mean()\n",
    "         .reindex(order['Segment']))\n",
    "\n",
    "fig = plt.figure(figsize=(6,4))\n",
    "im = plt.imshow(stats.values, aspect='auto')\n",
    "plt.colorbar(im, fraction=0.046, pad=0.04)\n",
    "plt.yticks(range(len(stats.index)), stats.index)\n",
    "plt.xticks(range(3), ['Recency','Frequency','Monetary'])\n",
    "plt.title('Average R, F, M by Segment')\n",
    "plt.tight_layout()\n",
    "plt.show()\n",
    "\n",
    "stats"
   ]
  },
  {
   "cell_type": "code",
   "execution_count": null,
   "id": "f68fef24",
   "metadata": {},
   "outputs": [],
   "source": [
    "# Step 7: Save results\n",
    "rfm_out = '/mnt/data/rfm_results.csv'\n",
    "rfm.to_csv(rfm_out, index=False)\n",
    "print('Saved:', rfm_out)"
   ]
  }
 ],
 "metadata": {},
 "nbformat": 4,
 "nbformat_minor": 5
}
